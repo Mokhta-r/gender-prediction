{
 "cells": [
  {
   "cell_type": "markdown",
   "id": "53ef3d9e",
   "metadata": {},
   "source": [
    "<a name=\"Genre\"></a>\n",
    "## Prédiction du genre à partir du prénom\n",
    "\n",
    "Nous allons construire deux modèles :\n",
    "\n",
    "1. **Régression logistique** sur des n‑grammes de caractères.\n",
    "2. **Naive Bayes** sur les mêmes caractéristiques.\n",
    "\n",
    "Le jeu de données provient du corpus **`names`** de NLTK : il contient des listes de prénoms masculins et féminins anglophones."
   ]
  },
  {
   "cell_type": "code",
   "execution_count": 1,
   "id": "f1afc509",
   "metadata": {},
   "outputs": [
    {
     "name": "stderr",
     "output_type": "stream",
     "text": [
      "[nltk_data] Downloading package names to\n",
      "[nltk_data]     C:\\Users\\dell\\AppData\\Roaming\\nltk_data...\n",
      "[nltk_data]   Package names is already up-to-date!\n"
     ]
    },
    {
     "data": {
      "text/html": [
       "<div>\n",
       "<style scoped>\n",
       "    .dataframe tbody tr th:only-of-type {\n",
       "        vertical-align: middle;\n",
       "    }\n",
       "\n",
       "    .dataframe tbody tr th {\n",
       "        vertical-align: top;\n",
       "    }\n",
       "\n",
       "    .dataframe thead th {\n",
       "        text-align: right;\n",
       "    }\n",
       "</style>\n",
       "<table border=\"1\" class=\"dataframe\">\n",
       "  <thead>\n",
       "    <tr style=\"text-align: right;\">\n",
       "      <th></th>\n",
       "      <th>name</th>\n",
       "      <th>gender</th>\n",
       "      <th>name_clean</th>\n",
       "    </tr>\n",
       "  </thead>\n",
       "  <tbody>\n",
       "    <tr>\n",
       "      <th>1163</th>\n",
       "      <td>Hersh</td>\n",
       "      <td>M</td>\n",
       "      <td>hersh</td>\n",
       "    </tr>\n",
       "    <tr>\n",
       "      <th>2283</th>\n",
       "      <td>Saxon</td>\n",
       "      <td>M</td>\n",
       "      <td>saxon</td>\n",
       "    </tr>\n",
       "    <tr>\n",
       "      <th>7156</th>\n",
       "      <td>Roselyn</td>\n",
       "      <td>F</td>\n",
       "      <td>roselyn</td>\n",
       "    </tr>\n",
       "    <tr>\n",
       "      <th>1421</th>\n",
       "      <td>Karel</td>\n",
       "      <td>M</td>\n",
       "      <td>karel</td>\n",
       "    </tr>\n",
       "    <tr>\n",
       "      <th>3296</th>\n",
       "      <td>Ariadne</td>\n",
       "      <td>F</td>\n",
       "      <td>ariadne</td>\n",
       "    </tr>\n",
       "    <tr>\n",
       "      <th>...</th>\n",
       "      <td>...</td>\n",
       "      <td>...</td>\n",
       "      <td>...</td>\n",
       "    </tr>\n",
       "    <tr>\n",
       "      <th>5226</th>\n",
       "      <td>Jacinta</td>\n",
       "      <td>F</td>\n",
       "      <td>jacinta</td>\n",
       "    </tr>\n",
       "    <tr>\n",
       "      <th>5390</th>\n",
       "      <td>Jo Ann</td>\n",
       "      <td>F</td>\n",
       "      <td>joann</td>\n",
       "    </tr>\n",
       "    <tr>\n",
       "      <th>860</th>\n",
       "      <td>Forbes</td>\n",
       "      <td>M</td>\n",
       "      <td>forbes</td>\n",
       "    </tr>\n",
       "    <tr>\n",
       "      <th>7603</th>\n",
       "      <td>Tessy</td>\n",
       "      <td>F</td>\n",
       "      <td>tessy</td>\n",
       "    </tr>\n",
       "    <tr>\n",
       "      <th>7270</th>\n",
       "      <td>Selena</td>\n",
       "      <td>F</td>\n",
       "      <td>selena</td>\n",
       "    </tr>\n",
       "  </tbody>\n",
       "</table>\n",
       "<p>7944 rows × 3 columns</p>\n",
       "</div>"
      ],
      "text/plain": [
       "         name gender name_clean\n",
       "1163    Hersh      M      hersh\n",
       "2283    Saxon      M      saxon\n",
       "7156  Roselyn      F    roselyn\n",
       "1421    Karel      M      karel\n",
       "3296  Ariadne      F    ariadne\n",
       "...       ...    ...        ...\n",
       "5226  Jacinta      F    jacinta\n",
       "5390   Jo Ann      F      joann\n",
       "860    Forbes      M     forbes\n",
       "7603    Tessy      F      tessy\n",
       "7270   Selena      F     selena\n",
       "\n",
       "[7944 rows x 3 columns]"
      ]
     },
     "execution_count": 1,
     "metadata": {},
     "output_type": "execute_result"
    }
   ],
   "source": [
    "import nltk, pandas as pd, numpy as np, re\n",
    "from sklearn.feature_extraction.text import CountVectorizer\n",
    "from sklearn.linear_model import LogisticRegression\n",
    "from sklearn.naive_bayes import MultinomialNB\n",
    "from sklearn.pipeline import Pipeline\n",
    "from sklearn.metrics import accuracy_score, classification_report\n",
    "nltk.download('names')\n",
    "\n",
    "names_male = [(n, 'M') for n in nltk.corpus.names.words('male.txt')]\n",
    "names_female = [(n, 'F') for n in nltk.corpus.names.words('female.txt')]\n",
    "\n",
    "df_names = pd.DataFrame(names_male + names_female, columns=['name', 'gender'])\n",
    "df_names = df_names.sample(frac=1, random_state=42)  # shuffle\n",
    "\n",
    "def clean_name(n):\n",
    "    return re.sub('[^a-z]', '', n.lower())\n",
    "\n",
    "df_names['name_clean'] = df_names['name'].apply(clean_name)\n",
    "df_names"
   ]
  },
  {
   "cell_type": "code",
   "execution_count": 2,
   "id": "35f2788a",
   "metadata": {},
   "outputs": [],
   "source": [
    "X = df_names['name_clean']\n",
    "y = df_names['gender']\n",
    "\n",
    "vectorizer = CountVectorizer(analyzer='char', ngram_range=(1,4))"
   ]
  },
  {
   "cell_type": "code",
   "execution_count": 3,
   "id": "276388dd",
   "metadata": {},
   "outputs": [],
   "source": [
    "# 1. Pipeline LogReg\n",
    "pipe_lr = Pipeline([\n",
    "    ('vect', vectorizer),\n",
    "    ('clf', LogisticRegression(max_iter=500))\n",
    "])"
   ]
  },
  {
   "cell_type": "code",
   "execution_count": 4,
   "id": "3d0c48b1",
   "metadata": {},
   "outputs": [],
   "source": [
    "# 2. Pipeline Naive Bayes\n",
    "pipe_nb = Pipeline([\n",
    "    ('vect', vectorizer),\n",
    "    ('clf', MultinomialNB())\n",
    "])"
   ]
  },
  {
   "cell_type": "code",
   "execution_count": 5,
   "id": "71932993",
   "metadata": {},
   "outputs": [],
   "source": [
    "from sklearn.model_selection import train_test_split\n",
    "X_train, X_test, y_train, y_test = train_test_split(X, y, stratify=y, random_state=42, test_size=0.1)"
   ]
  },
  {
   "cell_type": "code",
   "execution_count": 6,
   "id": "873a794c",
   "metadata": {},
   "outputs": [
    {
     "name": "stdout",
     "output_type": "stream",
     "text": [
      "\n",
      "==> LogReg\n",
      "              precision    recall  f1-score   support\n",
      "\n",
      "           F       0.87      0.87      0.87       500\n",
      "           M       0.78      0.77      0.78       295\n",
      "\n",
      "    accuracy                           0.83       795\n",
      "   macro avg       0.82      0.82      0.82       795\n",
      "weighted avg       0.83      0.83      0.83       795\n",
      "\n",
      "\n",
      "==> NaiveBayes\n",
      "              precision    recall  f1-score   support\n",
      "\n",
      "           F       0.81      0.84      0.82       500\n",
      "           M       0.71      0.66      0.68       295\n",
      "\n",
      "    accuracy                           0.77       795\n",
      "   macro avg       0.76      0.75      0.75       795\n",
      "weighted avg       0.77      0.77      0.77       795\n",
      "\n"
     ]
    }
   ],
   "source": [
    "for name, model in [('LogReg', pipe_lr), ('NaiveBayes', pipe_nb)]:\n",
    "    model.fit(X_train, y_train)\n",
    "    y_pred = model.predict(X_test)\n",
    "    print(f\"\\n==> {name}\")\n",
    "    print(classification_report(y_test, y_pred))\n",
    "\n",
    "# Choix du modèle LogReg pour l'enrichissement\n",
    "gender_model = pipe_lr"
   ]
  },
  {
   "cell_type": "code",
   "execution_count": 7,
   "id": "001acb5a",
   "metadata": {},
   "outputs": [],
   "source": [
    "def predict_gender(name: str, model=pipe_nb):\n",
    "    if not isinstance(name, str) or name.strip() == \"\":\n",
    "        raise ValueError(\"Le prénom doit être une chaîne non vide.\")\n",
    "\n",
    "    # Nettoyage cohérent avec l’entraînement\n",
    "    name_clean = clean_name(name)\n",
    "\n",
    "    # Prédiction + probabilité\n",
    "    proba = model.predict_proba([name_clean])[0]\n",
    "    idx   = proba.argmax()\n",
    "    label = model.classes_[idx]\n",
    "    confidence = float(proba[idx])\n",
    "    return label, confidence"
   ]
  },
  {
   "cell_type": "code",
   "execution_count": 8,
   "id": "86af636d",
   "metadata": {},
   "outputs": [
    {
     "name": "stdout",
     "output_type": "stream",
     "text": [
      "Mochtar    → M  (confiance : 99.72%)\n",
      "Maimouna   → M  (confiance : 81.58%)\n",
      "Khadija    → M  (confiance : 97.98%)\n",
      "Abdellahi  → F  (confiance : 99.98%)\n",
      "Mamadou    → M  (confiance : 84.17%)\n"
     ]
    }
   ],
   "source": [
    "for n in [\"Mochtar\", \"Maimouna\", \"Khadija\", \"Abdellahi\", \"Mamadou\"]:\n",
    "    lab, conf = predict_gender(n)\n",
    "    print(f\"{n:<10s} → {lab}  (confiance : {conf:.2%})\")"
   ]
  },
  {
   "cell_type": "code",
   "execution_count": 9,
   "id": "a74d97b2",
   "metadata": {},
   "outputs": [
    {
     "name": "stdout",
     "output_type": "stream",
     "text": [
      "Mariem     → F  (confiance : 99.97%)\n",
      "Marie      → F  (confiance : 99.98%)\n",
      "Abou       → M  (confiance : 99.21%)\n"
     ]
    }
   ],
   "source": [
    "for n in [\"Mariem\", \"Marie\", \"Abou\"]:\n",
    "    lab, conf = predict_gender(n)\n",
    "    print(f\"{n:<10s} → {lab}  (confiance : {conf:.2%})\")"
   ]
  }
 ],
 "metadata": {
  "kernelspec": {
   "display_name": "Python 3",
   "language": "python",
   "name": "python3"
  },
  "language_info": {
   "codemirror_mode": {
    "name": "ipython",
    "version": 3
   },
   "file_extension": ".py",
   "mimetype": "text/x-python",
   "name": "python",
   "nbconvert_exporter": "python",
   "pygments_lexer": "ipython3",
   "version": "3.10.11"
  }
 },
 "nbformat": 4,
 "nbformat_minor": 5
}
